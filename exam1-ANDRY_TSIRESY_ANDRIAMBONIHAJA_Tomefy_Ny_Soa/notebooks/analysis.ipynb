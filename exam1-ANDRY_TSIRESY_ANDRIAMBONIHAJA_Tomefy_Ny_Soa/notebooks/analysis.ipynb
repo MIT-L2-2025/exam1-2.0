{
 "cells": [
  {
   "cell_type": "markdown",
   "id": "4c4fbf3a",
   "metadata": {},
   "source": [
    "## Scraping de Google Maps"
   ]
  },
  {
   "cell_type": "code",
   "execution_count": null,
   "id": "0f5168ef",
   "metadata": {},
   "outputs": [
    {
     "name": "stdout",
     "output_type": "stream",
     "text": [
      "The autoreload extension is already loaded. To reload it, use:\n",
      "  %reload_ext autoreload\n",
      "[{'name': 'O Loft Chinois', 'address': '4G39+2J7, Antananarivo', 'phone': None, 'hours': 'Wednesday9 am–7 pmThursday9 am–7 pmFriday9 am–7 pmSaturday9 am–7 pmSundayClosedMonday9 am–7 pmTuesday9 am–7 pm', 'weekly_schedule': {}, 'rating': '4.2', 'reviews': '26 reviews', 'service_options': ['Takeaway', 'Dine-in'], 'highlights': ['Great coffee', 'Great dessert'], 'popular_for': ['Solo dining'], 'offerings': ['Alcohol', 'Beer', 'Coffee', 'Small plates', 'Spirits', 'Wine'], 'dining_options': ['Lunch', 'Dinner', 'Catering', 'Dessert'], 'amenities': ['Bar on site', 'Toilet'], 'atmosphere': ['Cosy'], 'crowd': ['Groups', 'Tourists'], 'children': ['Good for kids'], 'latitude': -18.8974503, 'longitude': 47.5190589}]\n"
     ]
    }
   ],
   "source": [
    "%load_ext autoreload\n",
    "%autoreload 2\n",
    "\n",
    "import os\n",
    "import sys\n",
    "import asyncio\n",
    "\n",
    "sys.path.append(os.path.abspath(\"..\"))\n",
    "\n",
    "from src.scraping.google_map_scraper import (\n",
    "    scrape_google_maps_async\n",
    ")\n",
    "\n",
    "from src.data_manip.to_json import extract_json\n",
    "\n",
    "\n",
    "# Lancer le scraping\n",
    "all_data = await scrape_google_maps_async()\n",
    "print(all_data)\n",
    "extract_json(all_data)\n",
    "\n"
   ]
  },
  {
   "cell_type": "markdown",
   "id": "d77575aa",
   "metadata": {},
   "source": []
  },
  {
   "cell_type": "markdown",
   "id": "e0ad15d3",
   "metadata": {},
   "source": []
  },
  {
   "cell_type": "markdown",
   "id": "4131eb66",
   "metadata": {},
   "source": []
  }
 ],
 "metadata": {
  "kernelspec": {
   "display_name": "scraping-env",
   "language": "python",
   "name": "python3"
  },
  "language_info": {
   "codemirror_mode": {
    "name": "ipython",
    "version": 3
   },
   "file_extension": ".py",
   "mimetype": "text/x-python",
   "name": "python",
   "nbconvert_exporter": "python",
   "pygments_lexer": "ipython3",
   "version": "3.13.2"
  }
 },
 "nbformat": 4,
 "nbformat_minor": 5
}
